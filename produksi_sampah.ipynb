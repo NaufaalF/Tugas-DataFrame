{
 "cells": [
  {
   "cell_type": "code",
   "execution_count": 7,
   "metadata": {},
   "outputs": [
    {
     "name": "stdout",
     "output_type": "stream",
     "text": [
      "Collecting openpyxl\n",
      "  Downloading openpyxl-3.1.5-py2.py3-none-any.whl.metadata (2.5 kB)\n",
      "Collecting et-xmlfile (from openpyxl)\n",
      "  Downloading et_xmlfile-2.0.0-py3-none-any.whl.metadata (2.7 kB)\n",
      "Downloading openpyxl-3.1.5-py2.py3-none-any.whl (250 kB)\n",
      "Downloading et_xmlfile-2.0.0-py3-none-any.whl (18 kB)\n",
      "Installing collected packages: et-xmlfile, openpyxl\n",
      "Successfully installed et-xmlfile-2.0.0 openpyxl-3.1.5\n",
      "Note: you may need to restart the kernel to use updated packages.\n"
     ]
    },
    {
     "name": "stderr",
     "output_type": "stream",
     "text": [
      "\n",
      "[notice] A new release of pip is available: 24.2 -> 24.3.1\n",
      "[notice] To update, run: python.exe -m pip install --upgrade pip\n"
     ]
    }
   ],
   "source": [
    "pip install openpyxl"
   ]
  },
  {
   "cell_type": "code",
   "execution_count": 54,
   "metadata": {},
   "outputs": [
    {
     "name": "stdout",
     "output_type": "stream",
     "text": [
      "    nama_kabupaten_kota  jumlah_produksi_sampah  tahun\n",
      "0       KABUPATEN BOGOR                 1511.15   2015\n",
      "1    KABUPATEN SUKABUMI                  419.01   2015\n",
      "2     KABUPATEN CIANJUR                  981.41   2015\n",
      "3     KABUPATEN BANDUNG                 1895.94   2015\n",
      "4       KABUPATEN GARUT                  464.74   2015\n",
      "..                  ...                     ...    ...\n",
      "238         KOTA BEKASI                     NaN   2023\n",
      "239          KOTA DEPOK                     NaN   2023\n",
      "240         KOTA CIMAHI                     NaN   2023\n",
      "241    KOTA TASIKMALAYA                     NaN   2023\n",
      "242         KOTA BANJAR                     NaN   2023\n",
      "\n",
      "[243 rows x 3 columns]\n",
      "   Tahun  Total Produksi Sampah\n",
      "0   2015               20969.27\n",
      "   Tahun  Total produksi sampah\n",
      "0   2015               20969.27\n",
      "1   2016               20969.27\n",
      "2   2017               20969.27\n",
      "3   2018               22772.92\n",
      "4   2019               24490.56\n",
      "5   2020               25333.00\n",
      "6   2021               15735.36\n",
      "7   2022                    NaN\n",
      "8   2023                    NaN\n",
      "    Nama Kabupaten/Kota  Tahun  Jumlah produksi sampah\n",
      "0       KABUPATEN BOGOR   2015                 1511.15\n",
      "1    KABUPATEN SUKABUMI   2015                  419.01\n",
      "2     KABUPATEN CIANJUR   2015                  981.41\n",
      "3     KABUPATEN BANDUNG   2015                 1895.94\n",
      "4       KABUPATEN GARUT   2015                  464.74\n",
      "..                  ...    ...                     ...\n",
      "238         KOTA BEKASI   2023                     NaN\n",
      "239          KOTA DEPOK   2023                     NaN\n",
      "240         KOTA CIMAHI   2023                     NaN\n",
      "241    KOTA TASIKMALAYA   2023                     NaN\n",
      "242         KOTA BANJAR   2023                     NaN\n",
      "\n",
      "[243 rows x 3 columns]\n"
     ]
    }
   ],
   "source": [
    "import pandas as pd\n",
    "\n",
    "#No. 1 Membuat sebuah DataFrame dari data jumlah produksi sampah berdasarkan Kabupaten/Kota di Jawa Barat\n",
    "data_excel = pd.read_excel('disperkim-od_16985_jumlah_produksi_sampah_berdasarkan_kabupatenkota_v3_data.xlsx')\n",
    "df_excel = data_excel[['nama_kabupaten_kota','jumlah_produksi_sampah','tahun']]\n",
    "print(df_excel)\n",
    "\n",
    "#No. 2 Menghitung total produksi sampah di seluruh Kabupaten/Kota di Jawa Barat untuk tahun tertentu\n",
    "total = 0\n",
    "for index, row in df_excel.iterrows():\n",
    "    if row['tahun'] == 2015:\n",
    "        total += row['jumlah_produksi_sampah']\n",
    "\n",
    "df_total = pd.DataFrame({\n",
    "    'Tahun': [2015],\n",
    "    'Total Produksi Sampah': [total]\n",
    "})\n",
    "print(df_total)\n",
    "\n",
    "#No. 3 Jumlah data per tahun\n",
    "sampah_pertahun = {}\n",
    "for index, row in df_excel.iterrows():\n",
    "    tahun = row['tahun']\n",
    "    jumlah = row['jumlah_produksi_sampah']\n",
    "    if tahun in sampah_pertahun:\n",
    "        sampah_pertahun[tahun] += jumlah\n",
    "    else:\n",
    "        sampah_pertahun[tahun] = jumlah\n",
    "df_sampah_pertahun = pd.DataFrame(list(sampah_pertahun.items()), columns=['Tahun', 'Total produksi sampah'])\n",
    "print(df_sampah_pertahun)\n",
    "\n",
    "#No. 4 Jumlah data per Kota/Kabupaten per tahun\n",
    "sampah_perkota_pertahun = {}\n",
    "for index, row in df_excel.iterrows():\n",
    "    tahun_kota = (row['nama_kabupaten_kota'], row['tahun'])\n",
    "    if tahun_kota in sampah_perkota_pertahun:\n",
    "        sampah_perkota_pertahun[tahun_kota] += row['jumlah_produksi_sampah']\n",
    "    else:\n",
    "        sampah_perkota_pertahun[tahun_kota] = row['jumlah_produksi_sampah']\n",
    "\n",
    "filtered_data = [{'Nama Kabupaten/Kota': k[0], 'Tahun': k[1], 'Jumlah produksi sampah': v} for k, v in sampah_perkota_pertahun.items()]\n",
    "df_sampah_perkota_pertahun = pd.DataFrame(filtered_data)\n",
    "print(df_sampah_perkota_pertahun)\n",
    "\n",
    "#Export data\n",
    "df_excel.to_csv('No_1.csv', index=False)\n",
    "df_excel.to_excel('No_1.xlsx', index=False)\n",
    "df_total.to_csv('No_2.csv', index=False)\n",
    "df_total.to_excel('No_2.xlsx', index=False)\n",
    "df_sampah_pertahun.to_csv('No_3.csv', index=False)\n",
    "df_sampah_pertahun.to_excel('No_3.xlsx', index=False)\n",
    "df_sampah_perkota_pertahun.to_csv('No_4.csv', index=False)\n",
    "df_sampah_perkota_pertahun.to_excel('No_4.xlsx', index=False)"
   ]
  }
 ],
 "metadata": {
  "kernelspec": {
   "display_name": "Python 3",
   "language": "python",
   "name": "python3"
  },
  "language_info": {
   "codemirror_mode": {
    "name": "ipython",
    "version": 3
   },
   "file_extension": ".py",
   "mimetype": "text/x-python",
   "name": "python",
   "nbconvert_exporter": "python",
   "pygments_lexer": "ipython3",
   "version": "3.12.6"
  }
 },
 "nbformat": 4,
 "nbformat_minor": 2
}
